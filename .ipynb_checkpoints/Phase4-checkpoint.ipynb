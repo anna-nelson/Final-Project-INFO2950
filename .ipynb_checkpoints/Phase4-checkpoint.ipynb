{
 "cells": [
  {
   "cell_type": "markdown",
   "id": "233c8b37-aed3-48bd-940f-f4f1095bf676",
   "metadata": {},
   "source": [
    "# INFO 2950 PHASE 4"
   ]
  },
  {
   "cell_type": "markdown",
   "id": "817ba16f-31b0-495a-bccf-4f87774a09e6",
   "metadata": {},
   "source": [
    "## Part 1: Introduction"
   ]
  },
  {
   "cell_type": "markdown",
   "id": "49114016-fd55-4b9f-a81f-d2b8af65c541",
   "metadata": {},
   "source": [
    "#### Background Information\n",
    "Drugs heavily impact the personality traits and characteristics of an individual, especially based on the frequency of their useage and of what drug. In this project, we aim to explore whether we can predict a person's drug use based on their personality traits. To do so, we would explore potentional correlations between specific personality traits and drug use,looking at: neuroticism, extraversion, openness to experience, agreeableness, conscientiousness, impulsivity, and sensation seeking. We will train a multivariable regression to see if we can reliably predict a person's drug use based on a person's personality traits. It is important to recognize hightened or unusual personality traits, especially in individuals who could be exposed to life-threatening drugs or unsafe situations of usage. We hope this evaluation will be a resource for readers to better understand effects of drug usage and what traits are heightened after using a certain drug. \n",
    "\n",
    "#### Research Questions\n",
    "- Can we reliably predict a person's drug use based off a person's personality traits? \n",
    "- What types of drugs are more likely to be used by certain personalities?"
   ]
  },
  {
   "cell_type": "markdown",
   "id": "c175d9d2-9415-4037-8a00-51cc28304607",
   "metadata": {},
   "source": [
    "## Part 2: Data Description"
   ]
  },
  {
   "cell_type": "markdown",
   "id": "0615d3a0-061b-4426-83dd-553ce5264138",
   "metadata": {},
   "source": [
    "- What are the observations (rows) and the attributes (columns)?\n",
    "This dataset contains records for 1885 respondents with the following 12 columns: personality measurements(neuroticism, extraversion, openness to experience, agreeableness, conscientiousness, impulsivity, sensation seeking), level of education, age, gender, country of residence, and ethnicity. It also contains responses for the responders use of 18 legal and illegal drugs(18 more columns): alcohol, amphetamines, amyl nitrite, benzodiazepine, cannabis, chocolate, cocaine, caffeine, crack, ecstasy, heroin, ketamine, legal highs, LSD, methadone, mushrooms, nicotine and volatile substance abuse and Semerone (fictitious drug to identify overresponders). Each row represents the response of one person - the responders have selected whether they never used the drug, used it over a decade ago, or in the last decade, year, month, week, or day.\n",
    "\n",
    "- Why was this dataset created?\n",
    "This dataset was accessed from UC Irvine Machine Learning Repository, where it was created by Elaine Fehrman, Vincent Egan, and Evgeny Mirkes. This data set was created to evaluate an individual's risk of drug consumption and misuse based on categorical data. \n",
    "\n",
    "- Who funded the creation of the dataset?\n",
    "This data collection was independantly funded and created by the authors of the dataset listed above.\n",
    "\n",
    "- What processes might have influenced what data was observed and recorded and what was not?\n",
    "An anonymous online survey methodology from Survey Gizmo was used to collect this data, which could have influenced people's responses because they can choose which questions to answer honestly or not. The people had to take a personality test to get the personality data. The data was analyzed and organized by the three authors listed at the beginning of this paragraph, and the uci machine learning repositiory obtained it for us to get the current form of the data. \n",
    "\n",
    "- What preprocessing was done, and how did the data come to be in the form that you are using?\n",
    "There was preprocessing done, specifically the answers for how often the respondants use drugs was turned into classes representing the category of their response. The data was collected and formatted by the authors listed above who turned it into the UC Irvine Machine Learning Repository.\n",
    "\n",
    "- If people are involved, were they aware of the data collection and if so, what purpose did they expect the data to be used for?\n",
    "Yes, the people responding were aware of the data collection, as they filled out the form voluntarily, and they knew the data was going to be analyzed and collected for this dataset.\n",
    "\n",
    "- Where can your raw source data be found, if applicable? Provide a link to the raw data (hosted on Github, in a Cornell Google Drive or Cornell Box)\n",
    "This is a link to the dataset: https://archive.ics.uci.edu/dataset/373/drug+consumption+quantified and here is the github link to the raw data: https://github.com/uci-ml-repo/ucimlrepo?tab=readme-ov-file"
   ]
  },
  {
   "cell_type": "markdown",
   "id": "31501636-63b7-4a03-a33e-ed1a68b07393",
   "metadata": {},
   "source": [
    "## Part 3: Preregistration Statement"
   ]
  },
  {
   "cell_type": "raw",
   "id": "07230683-2642-462f-8f38-f4968127ab38",
   "metadata": {},
   "source": []
  },
  {
   "cell_type": "markdown",
   "id": "e3c60b1f-4bec-433a-a18f-29eebc90a9f5",
   "metadata": {},
   "source": [
    "#### Hypothesis 1: \n",
    "Users who have higher sensation-seeking scores are most likely to be high users of stimulants.\n",
    "\n",
    "Analysis: Run a logistic regression where our output variable is the binary variable representing the odds of being a heavy user of drugs classified as stimulants, and the input is a user’s sensation-seeking score. We aim to test whether there is a significant positive relationship between sensation-seeking and stimulant drug use, such that higher scores on sensation-seeking are associated with higher odds of being a heavy user of stimulant drugs. Specifically, we will test whether the coefficient 𝛽 sensation-seeking>0.\n",
    "\n",
    "\n",
    "#### Hypothesis 2: \n",
    "Users who have higher neuroticism and lower conscientiousness scores are most likely to be high users of extreme drugs.\n",
    "\n",
    "Analysis: We will run a multinvariate logistic regression model with the following predictor variables: neuroticism score and conscientiousness score. The outcome variable will be the binary indicator of heavy drug use of extreme drugs (coke, crack, heroin, ecstasy, ketamine). We will evaluate each predictor’s contribution to the odds of being a heavy user. We will test if βneuroticism > 0 (higher neuroticism is positively associated with higher odds of heavy drug use) and if βconscientiousness < 0 (lower conscientiousness is positively associated with higher odds of heavy drug use).\n"
   ]
  },
  {
   "cell_type": "markdown",
   "id": "6c255eea-3b4c-4fe6-bd82-ceb5ee401177",
   "metadata": {},
   "source": [
    "## Part 4: Data Analysis"
   ]
  },
  {
   "cell_type": "code",
   "execution_count": 1,
   "id": "81423f59-bba7-4469-8c4a-8457390c7c29",
   "metadata": {},
   "outputs": [],
   "source": [
    "# imports and settings\n",
    "import matplotlib.pyplot as plt\n",
    "import numpy as np\n",
    "import pandas as pd\n",
    "import seaborn as sns\n",
    "from ucimlrepo import fetch_ucirepo \n",
    "from sklearn.model_selection import train_test_split\n",
    "from sklearn.linear_model import LinearRegression\n",
    "from sklearn.metrics import mean_squared_error, r2_score"
   ]
  },
  {
   "cell_type": "code",
   "execution_count": null,
   "id": "66d5d249-af73-43a4-a8f3-9551e910397a",
   "metadata": {},
   "outputs": [],
   "source": [
    "#import cleaned data from data cleaning document\n",
    "features= pd.read_csv(\"cleaned_features.csv\")\n",
    "targets= pd.read_csv(\"cleaned_targets.csv\")"
   ]
  },
  {
   "cell_type": "markdown",
   "id": "a7532042-f877-444d-9e0c-a307d27f4c84",
   "metadata": {},
   "source": [
    "## Part 5: Evaluation of Significance"
   ]
  },
  {
   "cell_type": "markdown",
   "id": "2505329d-2c50-4b12-ad8f-23f96c3fd1c4",
   "metadata": {},
   "source": [
    "## Part 6: Conclusions"
   ]
  },
  {
   "cell_type": "markdown",
   "id": "9af47c97-de52-4e8c-bb63-c73a99af4acc",
   "metadata": {},
   "source": [
    "## Part 7: Limitations"
   ]
  },
  {
   "cell_type": "markdown",
   "id": "b49bcd9d-e253-4766-b1b8-17f4dc4a2812",
   "metadata": {},
   "source": [
    "There were a few limitations we discovered in the data. First, there was bias in the data. In this article about the data: https://arxiv.org/abs/1506.06297, the biases described were as follows: the sample was highly educated and all native english speaking. The largest bias of the data was that its respondants were 91.2% white. This could affect how representative the data is of the general population, especially any racial category besides white, as well as less educated and non-native speakers. Also, the data for the targets about the drug use was seperated into classes that described the last time the respondants had used the drug. This was difficult to quanitify and represent as numbers, and we may have not chosen the most accurate way to represent the drug use of the responders. "
   ]
  },
  {
   "cell_type": "markdown",
   "id": "5bdb2e65-288c-4ee4-93b1-fccb711b5a92",
   "metadata": {},
   "source": [
    "## Part 8: Acknowledgements and Bibliography"
   ]
  }
 ],
 "metadata": {
  "kernelspec": {
   "display_name": "Python 3 (ipykernel)",
   "language": "python",
   "name": "python3"
  },
  "language_info": {
   "codemirror_mode": {
    "name": "ipython",
    "version": 3
   },
   "file_extension": ".py",
   "mimetype": "text/x-python",
   "name": "python",
   "nbconvert_exporter": "python",
   "pygments_lexer": "ipython3",
   "version": "3.12.2"
  }
 },
 "nbformat": 4,
 "nbformat_minor": 5
}
