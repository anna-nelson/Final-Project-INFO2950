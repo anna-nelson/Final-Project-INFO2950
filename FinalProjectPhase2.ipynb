{
 "cells": [
  {
   "cell_type": "markdown",
   "id": "976685ba-455c-486e-8642-90547d71dc65",
   "metadata": {},
   "source": [
    "#### FINAL PROJECT PHASE II"
   ]
  },
  {
   "cell_type": "markdown",
   "id": "34409a4e-0759-4940-bddc-c63c9c2a22be",
   "metadata": {},
   "source": [
    "### Research Question:"
   ]
  },
  {
   "cell_type": "markdown",
   "id": "0764e238-8329-4848-bbcd-595dd7c5398c",
   "metadata": {},
   "source": [
    "Can we reliably predict a person's drug use based off a person's personality traits? What types of drugs are more likely to be used by certain demographics and personalities?\n",
    "\n",
    "In this assignment we would like to see if there is a correlation between specific personality traits and drug use, specifically we will look at: euroticism, extraversion, openness to experience, agreeableness, conscientiousness, impulsivity, and sensation seeking. We will train a multivariable regression to see if we can reliably predict a person's drug use based on a person's personality traits."
   ]
  },
  {
   "cell_type": "markdown",
   "id": "fe35ae05-3c90-4e4a-ab89-177d4a8a33c2",
   "metadata": {},
   "source": [
    "### Importing:"
   ]
  },
  {
   "cell_type": "code",
   "execution_count": 3,
   "id": "0e853089-bae7-4926-b36c-3d3d1474ec8d",
   "metadata": {},
   "outputs": [],
   "source": [
    "# imports and settings\n",
    "import matplotlib.pyplot as plt\n",
    "import numpy as np\n",
    "import pandas as pd\n",
    "import seaborn as sns\n",
    "from ucimlrepo import fetch_ucirepo \n",
    "from sklearn.model_selection import train_test_split\n",
    "from sklearn.linear_model import LinearRegression, LogisticRegression\n",
    "from sklearn.metrics import mean_squared_error, mean_absolute_error, mean_absolute_percentage_error"
   ]
  },
  {
   "cell_type": "markdown",
   "id": "44d0102e-6b7c-415a-b59f-7685908639dc",
   "metadata": {},
   "source": [
    "### Data Overview:"
   ]
  },
  {
   "cell_type": "markdown",
   "id": "70f4b68b-5b2a-4600-acb7-c623dbcda7aa",
   "metadata": {},
   "source": [
    "This dataset contains records for 1885 respondents with the following 12 attributes: personality measurements(neuroticism, extraversion, openness to experience, agreeableness, conscientiousness, impulsivity, sensation seeking), level of education, age, gender, country of residence, and ethnicity. It also contains responses for the responders use of 18 legal and illegal drugs: alcohol, amphetamines, amyl nitrite, benzodiazepine, cannabis, chocolate, cocaine, caffeine, crack, ecstasy, heroin, ketamine, legal highs, LSD, methadone, mushrooms, nicotine and volatile substance abuse and Semerone (fictitious drug to identify overresponders). The responders have selected whether they never used the drug, used it over a decade ago, or in the last decade, year, month, week, or day."
   ]
  },
  {
   "cell_type": "markdown",
   "id": "a4ae9c33-7657-4764-9167-745303fd7812",
   "metadata": {},
   "source": [
    "This dataset was accessed from UC Irvine Machine Learning Repository, where it was created by Elaine Fehrman, Vincent Egan, and Evgeny Mirkes. This data set was created to evaluate an individual's risk of drug consumption and misuse based on categorical data. This data collection was independantly created by the authors of the data set. An anonymous online survey methodology from Survey Gizmo was used to collect this data, which could have influenced people's responses because they can choose which questions to answer honestly or not. The people had to take a personality test to get the personality data. The data was analyzed and organized by the three authors listed at the beginning of this paragraph, and the uci machine learning repositiory obtained it for us to get the current form of the data. The people responding were aware of the data collection, as they filled out the form voluntarily, and knew what the data was going to be used for."
   ]
  },
  {
   "cell_type": "markdown",
   "id": "04d616d5-4746-43f9-8169-9d32f0a112a1",
   "metadata": {},
   "source": [
    "Here is the link to the dataset: https://archive.ics.uci.edu/dataset/373/drug+consumption+quantified\n",
    "and here is the github link to the raw data: https://github.com/uci-ml-repo/ucimlrepo?tab=readme-ov-file"
   ]
  },
  {
   "cell_type": "code",
   "execution_count": null,
   "id": "0bd89220-1a1d-4969-8b28-cab5d96d0a5c",
   "metadata": {},
   "outputs": [],
   "source": [
    "# fetch dataset \n",
    "drug_consumption = fetch_ucirepo(id=373) \n",
    "  \n",
    "# data features\n",
    "drug_consumption.data.features"
   ]
  },
  {
   "cell_type": "markdown",
   "id": "a0b8a7ff-d8b6-44a9-b3cb-ca5f3d82af18",
   "metadata": {},
   "source": [
    "We imported the data frame following the directions from the uci databse website, which imports the dataset as a pandas dataframe. It created a data frame of features shown above, which show the categorical data about the particpant. It also created a data frame of targets shown below, which shows the data about the drug use for each participant."
   ]
  },
  {
   "cell_type": "code",
   "execution_count": null,
   "id": "02290a4d-733c-4749-8450-0c84f58d0480",
   "metadata": {},
   "outputs": [],
   "source": [
    "#data targets\n",
    "drug_consumption.data.targets "
   ]
  },
  {
   "cell_type": "markdown",
   "id": "9e88223e-0230-4a05-85fc-a37bfa9beda3",
   "metadata": {},
   "source": [
    "Below, a data frame showing the variables for the data frame is shown, showing the type of each variable, along with the fact that there are no missing values for any of the categories"
   ]
  },
  {
   "cell_type": "code",
   "execution_count": null,
   "id": "104fb2ae-8b21-49cd-930c-13cd625e7c36",
   "metadata": {},
   "outputs": [],
   "source": [
    "# variable information \n",
    "print(drug_consumption.variables) "
   ]
  },
  {
   "cell_type": "markdown",
   "id": "b5e9d333-03fa-4cc7-a3fd-32bf348c65cb",
   "metadata": {},
   "source": [
    "##### Data Cleaning:"
   ]
  },
  {
   "cell_type": "markdown",
   "id": "0c8ec13a-79e1-4102-a0dc-63f832fd6e00",
   "metadata": {},
   "source": [
    "The first thing we decided to do is focus on the personality aspects, so we delted the columns that were irrelevant to our analysis: level of education, age, gender, country of residence, and ethnicity."
   ]
  },
  {
   "cell_type": "code",
   "execution_count": null,
   "id": "e1b8deaf-da61-4ba9-ab57-0925e5cbaef5",
   "metadata": {},
   "outputs": [],
   "source": [
    "print(\"Columns before cleaning: \")\n",
    "print(drug_consumption.data.features.columns)\n",
    "drug_consumption.data.features = drug_consumption.data.features.drop(['age'], axis=1)\n",
    "drug_consumption.data.features = drug_consumption.data.features.drop(['gender'], axis=1)\n",
    "drug_consumption.data.features = drug_consumption.data.features.drop(['education'], axis=1)\n",
    "drug_consumption.data.features = drug_consumption.data.features.drop(['country'], axis=1)\n",
    "drug_consumption.data.features = drug_consumption.data.features.drop(['ethnicity'], axis=1)\n",
    "print(drug_consumption.data.features)\n",
    "print(\"Columns after cleaning: \")\n",
    "print(drug_consumption.data.features.columns)"
   ]
  },
  {
   "cell_type": "raw",
   "id": "c42ae658-1a0b-44f2-9b26-1a69cda28d26",
   "metadata": {},
   "source": [
    "Next we decided to change the \"classes\" of the drug use into actual numbers, so we would be able to represent them in a graph."
   ]
  },
  {
   "cell_type": "code",
   "execution_count": null,
   "id": "8629a28e-3157-49a8-b2df-9088f2c32e42",
   "metadata": {},
   "outputs": [],
   "source": [
    "# Check unique target values for each substance before conversion\n",
    "print(\"Unique target values before conversion:\")\n",
    "for column in drug_consumption.data.targets.columns:\n",
    "    unique_values = drug_consumption.data.targets[column].unique()\n",
    "    print(f\"Unique values for {column}: {unique_values}\")\n",
    "\n",
    "# Create a new DataFrame to hold the converted values\n",
    "converted_targets = drug_consumption.data.targets.copy()\n",
    "\n",
    "# Convert target strings \"CL#\" to integers (1 to 6) using a for loop\n",
    "for column in drug_consumption.data.targets.columns:\n",
    "    for index in range(len(drug_consumption.data.targets)):\n",
    "        converted_targets.loc[index, column] = int(drug_consumption.data.targets.loc[index, column][2])  # Extract the number and convert to int\n",
    "\n",
    "# Replace the original targets with the converted DataFrame\n",
    "drug_consumption.data.targets = converted_targets\n",
    "\n",
    "# Check unique target values after conversion\n",
    "print(\"\\nUnique target values after conversion:\")\n",
    "for column in drug_consumption.data.targets.columns:\n",
    "    unique_values = drug_consumption.data.targets[column].unique()\n",
    "    print(f\"Unique values for {column}: {unique_values}\")\n",
    "\n",
    "# Print targets\n",
    "print(drug_consumption.data.targets)"
   ]
  },
  {
   "cell_type": "raw",
   "id": "d5aaf3e4-81b8-4813-8edb-edd50665b529",
   "metadata": {},
   "source": [
    "We decided to delete the colomn containing the fake drug: semer, because all of the people that responded yes to the fake drug were already eliminated from the study."
   ]
  },
  {
   "cell_type": "code",
   "execution_count": null,
   "id": "6bd337f6-bbf1-4aa3-b90e-8886fa051521",
   "metadata": {},
   "outputs": [],
   "source": [
    "print(\"Columns before cleaning: \")\n",
    "print(drug_consumption.data.targets.columns)\n",
    "drug_consumption.data.targets = drug_consumption.data.targets.drop(['semer'], axis=1)\n",
    "print(\"Columns after cleaning: \")\n",
    "print(drug_consumption.data.targets.columns)"
   ]
  },
  {
   "cell_type": "markdown",
   "id": "2b546477-8434-4461-9ebb-4b0cd720a6a7",
   "metadata": {},
   "source": [
    "### Exploratory Data Analysis:"
   ]
  },
  {
   "cell_type": "raw",
   "id": "edb7a4c6-3a56-44bb-aa04-4149a75c72c7",
   "metadata": {},
   "source": [
    "We made correlation matrices to decide which target we should explore:"
   ]
  },
  {
   "cell_type": "code",
   "execution_count": null,
   "id": "2e3b3f48-4cb7-4863-b740-57a847c20cda",
   "metadata": {},
   "outputs": [],
   "source": [
    "# Combine features and targets into a single DataFrame\n",
    "data_combined = pd.concat([drug_consumption.data.features, drug_consumption.data.targets], axis=1)\n",
    "\n",
    "# Calculate the correlation matrix\n",
    "correlation_matrix = data_combined.corr()\n",
    "\n",
    "# Print the correlation matrix\n",
    "print(correlation_matrix)"
   ]
  },
  {
   "cell_type": "raw",
   "id": "9b1bc9ad-3aac-4f27-99e2-90403456f3ff",
   "metadata": {},
   "source": [
    "We want to split our model into a train test split to evaluate model performance in different features."
   ]
  },
  {
   "cell_type": "code",
   "execution_count": null,
   "id": "6f054ac8-87c0-46e4-b607-77d0e412a9c8",
   "metadata": {},
   "outputs": [],
   "source": [
    "# Assuming you have already cleaned the features as needed\n",
    "X = drug_consumption.data.features  # Features\n",
    "y = drug_consumption.data.targets[\"alcohol\"]    # Targets\n",
    "\n",
    "# Split the dataset\n",
    "X_train, X_test, y_train, y_test = train_test_split(X, y, test_size=0.3, random_state=42)\n",
    "\n",
    "print(\"Training set size:\", X_train.shape)\n",
    "print(\"Testing set size:\", X_test.shape)"
   ]
  },
  {
   "cell_type": "code",
   "execution_count": null,
   "id": "cef6dacd-72c6-46c4-a8cc-87bcc846a86a",
   "metadata": {},
   "outputs": [],
   "source": [
    "# Initialize the Linear Regression model\n",
    "model = LinearRegression()\n",
    "\n",
    "# Train the model\n",
    "model.fit(X_train, y_train)\n",
    "\n",
    "# Make predictions\n",
    "y_hat_train = model.predict(X_train)\n",
    "y_hat_test = model.predict(X_test)\n",
    "\n",
    "# Evaluate the model on the train set\n",
    "mse= mean_squared_error(y_train, y_hat_train)\n",
    "rmse=np.sqrt(mse)\n",
    "mae=mean_absolute_error(y_train, y_hat_train)\n",
    "mape=mean_absolute_percentage_error(y_train,y_hat_train)\n",
    "print(\"Mean squared error: \", mse)\n",
    "print(\"Root mean squared error: \", rmse)\n",
    "print(\"Mean absolute error: \", mae)\n",
    "print(\"Mean absolute percentage error:\", mape)"
   ]
  },
  {
   "cell_type": "code",
   "execution_count": null,
   "id": "b7c08cf3-d082-45c3-b6c8-336b2c56df1d",
   "metadata": {},
   "outputs": [],
   "source": [
    "# Evaluate the model on the test set\n",
    "mse= mean_squared_error(y_test, y_hat_test)\n",
    "rmse=np.sqrt(mse)\n",
    "mae=mean_absolute_error(y_test, y_hat_test)\n",
    "mape=mean_absolute_percentage_error(y_test, y_hat_test)\n",
    "print(\"Mean squared error: \", mse)\n",
    "print(\"Root mean squared error: \", rmse)\n",
    "print(\"Mean absolute error: \", mae)\n",
    "print(\"Mean absolute percentage error:\", mape)"
   ]
  },
  {
   "cell_type": "raw",
   "id": "0fb2a589-2cc8-492f-926d-2ca6bacc4802",
   "metadata": {},
   "source": [
    "Next, we decided to create a residual plot to display the accuracy of our model on the train data"
   ]
  },
  {
   "cell_type": "code",
   "execution_count": null,
   "id": "f0830591-e52b-4eb2-a97b-886ce6c2155d",
   "metadata": {},
   "outputs": [],
   "source": [
    "# Calculate residuals\n",
    "residuals_train = y_train - y_hat_train\n",
    "\n",
    "# Create a scatter plot of residuals\n",
    "plt.figure(figsize=(10, 6))\n",
    "plt.scatter(y_hat_train, residuals_train, color='blue', alpha=0.5)\n",
    "plt.axhline(y=0, color='red', linestyle='--')  # Line at y=0 for reference\n",
    "plt.title('Residuals vs Predicted Values')\n",
    "plt.xlabel('Predicted Values')\n",
    "plt.ylabel('Residuals')\n",
    "plt.grid()\n",
    "plt.show()"
   ]
  },
  {
   "cell_type": "raw",
   "id": "633008e9-9e2f-4211-a71f-78e0a7925485",
   "metadata": {},
   "source": [
    "Then we did the same thing on our test data:"
   ]
  },
  {
   "cell_type": "code",
   "execution_count": null,
   "id": "5bcfa45b-68ba-415a-84fc-410bafa5305b",
   "metadata": {},
   "outputs": [],
   "source": [
    "# Calculate residuals\n",
    "residuals_test = y_test - y_hat_test\n",
    "\n",
    "# Create a scatter plot of residuals\n",
    "plt.figure(figsize=(10, 6))\n",
    "plt.scatter(y_hat_test, residuals_test, color='blue', alpha=0.5)\n",
    "plt.axhline(y=0, color='red', linestyle='--')  # Line at y=0 for reference\n",
    "plt.title('Residuals vs Predicted Values')\n",
    "plt.xlabel('Predicted Values')\n",
    "plt.ylabel('Residuals')\n",
    "plt.grid()\n",
    "plt.show()"
   ]
  },
  {
   "cell_type": "markdown",
   "id": "de2ccaa4-c02e-444a-859b-d43880fd76ac",
   "metadata": {},
   "source": [
    "### Data Limitations:"
   ]
  },
  {
   "cell_type": "raw",
   "id": "d409f6f9-c5ba-4007-b50b-0a5a0ca406a0",
   "metadata": {},
   "source": [
    "There were a few limitations we discovered in the data. First, there was bias in the data. In this article about the data: https://arxiv.org/abs/1506.06297, the biases described were as follows: the sample was highly educated and all native english speaking. The largest bias of the data was that its respondants were 91.2% white. This could affect how representative the data is of the general population, especially any racial category besides white, as well as less educated and non-native speakers. Also, the data for the targets about the drug use was seperated into classes that described the last time the respondants had used the drug. This was difficult to quanitify and represent as numbers, and we may have not chosen the most accurate way to represent the drug use of the responders. "
   ]
  },
  {
   "cell_type": "markdown",
   "id": "706d586c-db99-45a1-9191-8a663d42c0ed",
   "metadata": {},
   "source": [
    "### Questions for Reviewers:"
   ]
  },
  {
   "cell_type": "code",
   "execution_count": null,
   "id": "315f97e3-9184-4e31-a579-9f7c6039bd91",
   "metadata": {},
   "outputs": [],
   "source": []
  }
 ],
 "metadata": {
  "kernelspec": {
   "display_name": "Python 3 (ipykernel)",
   "language": "python",
   "name": "python3"
  },
  "language_info": {
   "codemirror_mode": {
    "name": "ipython",
    "version": 3
   },
   "file_extension": ".py",
   "mimetype": "text/x-python",
   "name": "python",
   "nbconvert_exporter": "python",
   "pygments_lexer": "ipython3",
   "version": "3.12.2"
  }
 },
 "nbformat": 4,
 "nbformat_minor": 5
}
