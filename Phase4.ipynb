{
 "cells": [
  {
   "cell_type": "markdown",
   "id": "233c8b37-aed3-48bd-940f-f4f1095bf676",
   "metadata": {},
   "source": [
    "# INFO 2950 PHASE 4"
   ]
  },
  {
   "cell_type": "markdown",
   "id": "817ba16f-31b0-495a-bccf-4f87774a09e6",
   "metadata": {},
   "source": [
    "## Part 1: Introduction"
   ]
  },
  {
   "cell_type": "markdown",
   "id": "49114016-fd55-4b9f-a81f-d2b8af65c541",
   "metadata": {},
   "source": [
    "#### Background Information\n",
    "Drugs heavily impact the personality traits and characteristics of an individual, especially based on the frequency of their useage and of what drug. In this project, we aim to explore whether we can predict a person's drug use based on their personality traits. To do so, we would explore potentional correlations between specific personality traits and drug use,looking at: neuroticism, extraversion, openness to experience, agreeableness, conscientiousness, impulsivity, and sensation seeking. We will train a multivariable regression to see if we can reliably predict a person's drug use based on a person's personality traits. It is important to recognize hightened or unusual personality traits, especially in individuals who could be exposed to life-threatening drugs or unsafe situations of usage. We hope this evaluation will be a resource for readers to better understand effects of drug usage and what traits are heightened after using a certain drug. \n",
    "\n",
    "#### Research Questions\n",
    "- Can we reliably predict a person's drug use based off a person's personality traits? \n",
    "- What types of drugs are more likely to be used by certain personalities?"
   ]
  },
  {
   "cell_type": "markdown",
   "id": "c175d9d2-9415-4037-8a00-51cc28304607",
   "metadata": {},
   "source": [
    "## Part 2: Data Description"
   ]
  },
  {
   "cell_type": "markdown",
   "id": "0615d3a0-061b-4426-83dd-553ce5264138",
   "metadata": {},
   "source": [
    "- #### What are the observations (rows) and the attributes (columns)?\n",
    "This dataset contains records for 1885 respondents with the following 12 columns: personality measurements(neuroticism, extraversion, openness to experience, agreeableness, conscientiousness, impulsivity, sensation seeking), level of education, age, gender, country of residence, and ethnicity. It also contains responses for the responders use of 18 legal and illegal drugs(18 more columns): alcohol, amphetamines, amyl nitrite, benzodiazepine, cannabis, chocolate, cocaine, caffeine, crack, ecstasy, heroin, ketamine, legal highs, LSD, methadone, mushrooms, nicotine and volatile substance abuse and Semerone (fictitious drug to identify overresponders). Each row represents the response of one person - the responders have selected whether they never used the drug, used it over a decade ago, or in the last decade, year, month, week, or day.\n",
    "\n",
    "- #### Why was this dataset created?\n",
    "This dataset was accessed from UC Irvine Machine Learning Repository, where it was created by Elaine Fehrman, Vincent Egan, and Evgeny Mirkes. This data set was created to evaluate an individual's risk of drug consumption and misuse based on categorical data. \n",
    "\n",
    "- #### Who funded the creation of the dataset?\n",
    "This data collection was independantly funded and created by the authors of the dataset listed above.\n",
    "\n",
    "- #### What processes might have influenced what data was observed and recorded and what was not?\n",
    "An anonymous online survey methodology from Survey Gizmo was used to collect this data, which could have influenced people's responses because they can choose which questions to answer honestly or not. The people had to take a personality test to get the personality data. The data was analyzed and organized by the three authors listed at the beginning of this paragraph, and the uci machine learning repositiory obtained it for us to get the current form of the data. \n",
    "\n",
    "- #### What preprocessing was done, and how did the data come to be in the form that you are using?\n",
    "There was preprocessing done, specifically the answers for how often the respondants use drugs was turned into classes representing the category of their response. The data was collected and formatted by the authors listed above who turned it into the UC Irvine Machine Learning Repository.\n",
    "\n",
    "- #### If people are involved, were they aware of the data collection and if so, what purpose did they expect the data to be used for?\n",
    "Yes, the people responding were aware of the data collection, as they filled out the form voluntarily, and they knew the data was going to be analyzed and collected for this dataset.\n",
    "\n",
    "- #### Where can your raw source data be found, if applicable? Provide a link to the raw data (hosted on Github, in a Cornell Google Drive or Cornell Box)\n",
    "This is a link to the dataset: https://archive.ics.uci.edu/dataset/373/drug+consumption+quantified and here is the github link to the raw data: https://github.com/uci-ml-repo/ucimlrepo?tab=readme-ov-file\n",
    "\n",
    "\n",
    "### Data Cleaning: \n",
    "To clean our data, we renamed columns, removed ficticuous and irrelevant columns, converted the columns to binary variables to effectively run a logistic regression, and added columns for the groups we are focusing are which are stimulants and extreme drugs. A more extensive explination of our cleaning and reasoning can be found here: *insert link*\n"
   ]
  },
  {
   "cell_type": "code",
   "execution_count": 10,
   "id": "81423f59-bba7-4469-8c4a-8457390c7c29",
   "metadata": {},
   "outputs": [],
   "source": [
    "# imports and settings\n",
    "import matplotlib.pyplot as plt\n",
    "import numpy as np\n",
    "import pandas as pd\n",
    "import seaborn as sns\n",
    "import statsmodels.api as sm\n",
    "from ucimlrepo import fetch_ucirepo \n",
    "from sklearn.model_selection import train_test_split\n",
    "from sklearn.linear_model import LinearRegression\n",
    "from sklearn.metrics import mean_squared_error, r2_score"
   ]
  },
  {
   "cell_type": "markdown",
   "id": "9acec31c-c19a-446a-a633-a4d4766721ff",
   "metadata": {},
   "source": [
    "### EDA Figures:\n",
    "To help better understand our reasoning behind choosing stimulants and sensation seeking for our first hypothesis, below are visuals from our Phase II EDA, which are distributions of sensation-seeking for high users in each given stimulant. It is evident that they are skewed distributions, which represent higher sensation seeking scores correlated with higher stimulant drug use. "
   ]
  },
  {
   "cell_type": "code",
   "execution_count": 11,
   "id": "75a43e83-ee85-4702-9bd7-86229ef338e6",
   "metadata": {},
   "outputs": [
    {
     "ename": "NameError",
     "evalue": "name 'converted_targets' is not defined",
     "output_type": "error",
     "traceback": [
      "\u001b[0;31m---------------------------------------------------------------------------\u001b[0m",
      "\u001b[0;31mNameError\u001b[0m                                 Traceback (most recent call last)",
      "Cell \u001b[0;32mIn[11], line 9\u001b[0m\n\u001b[1;32m      7\u001b[0m \u001b[38;5;28;01mfor\u001b[39;00m column \u001b[38;5;129;01min\u001b[39;00m drug_consumption\u001b[38;5;241m.\u001b[39mdata\u001b[38;5;241m.\u001b[39mtargets\u001b[38;5;241m.\u001b[39mcolumns:\n\u001b[1;32m      8\u001b[0m     \u001b[38;5;28;01mfor\u001b[39;00m index \u001b[38;5;129;01min\u001b[39;00m \u001b[38;5;28mrange\u001b[39m(\u001b[38;5;28mlen\u001b[39m(drug_consumption\u001b[38;5;241m.\u001b[39mdata\u001b[38;5;241m.\u001b[39mtargets)):\n\u001b[0;32m----> 9\u001b[0m         converted_targets\u001b[38;5;241m.\u001b[39mloc[index, column] \u001b[38;5;241m=\u001b[39m \u001b[38;5;28mint\u001b[39m(\n\u001b[1;32m     10\u001b[0m             drug_consumption\u001b[38;5;241m.\u001b[39mdata\u001b[38;5;241m.\u001b[39mtargets\u001b[38;5;241m.\u001b[39mloc[index, column][\u001b[38;5;241m2\u001b[39m])\n\u001b[1;32m     11\u001b[0m drug_consumption\u001b[38;5;241m.\u001b[39mdata\u001b[38;5;241m.\u001b[39mtargets \u001b[38;5;241m=\u001b[39m converted_targets\n\u001b[1;32m     13\u001b[0m \u001b[38;5;66;03m#nicotine\u001b[39;00m\n",
      "\u001b[0;31mNameError\u001b[0m: name 'converted_targets' is not defined"
     ]
    },
    {
     "data": {
      "text/plain": [
       "<Figure size 1500x1000 with 0 Axes>"
      ]
     },
     "metadata": {},
     "output_type": "display_data"
    }
   ],
   "source": [
    "sns.set(style=\"whitegrid\")\n",
    "plt.figure(figsize=(15, 10))\n",
    "\n",
    "drug_consumption = fetch_ucirepo(id=373) \n",
    "data_combined = pd.concat([drug_consumption.data.features, \n",
    "                           drug_consumption.data.targets], axis=1)\n",
    "for column in drug_consumption.data.targets.columns:\n",
    "    for index in range(len(drug_consumption.data.targets)):\n",
    "        converted_targets.loc[index, column] = int(\n",
    "            drug_consumption.data.targets.loc[index, column][2])\n",
    "drug_consumption.data.targets = converted_targets\n",
    "\n",
    "#nicotine\n",
    "high_nicotine_users = data_combined[data_combined['nicotine'].isin([6])]\n",
    "plt.subplot(3, 3, 1)\n",
    "sns.histplot(high_nicotine_users['ss'], bins=5, kde=True, \n",
    "             color='skyblue')\n",
    "plt.title(\"Distribution of Sensation-Seeking for High Nicotine Users\")\n",
    "plt.xlabel(\"Sensation Seeking\")\n",
    "plt.ylabel(\"Frequency\")\n",
    "plt.grid(axis='y')\n",
    "\n",
    "#cocaine\n",
    "high_cocaine_users = data_combined[data_combined['coke'].isin([6])]\n",
    "plt.subplot(3, 3, 2)\n",
    "sns.histplot(high_cocaine_users['ss'], bins=5, kde=True, \n",
    "             color='skyblue')\n",
    "plt.title(\"Distribution of Sensation-Seeking for High Cocaine Users\")\n",
    "plt.xlabel(\"Sensation Seeking\")\n",
    "plt.ylabel(\"Frequency\")\n",
    "plt.grid(axis='y')\n",
    "\n",
    "#methamphetime\n",
    "high_methamphetime_users = data_combined[data_combined['meth'].isin([6])]\n",
    "plt.subplot(3, 3, 3)\n",
    "sns.histplot(high_methamphetime_users['ss'], bins=5, kde=True, \n",
    "             color='skyblue')\n",
    "plt.title(\"Distribution of Sensation-Seeking for High Methamphetime Users\")\n",
    "plt.xlabel(\"Sensation Seeking\")\n",
    "plt.ylabel(\"Frequency\")\n",
    "plt.grid(axis='y')\n",
    "\n",
    "#amphetimine\n",
    "high_amphetimine_users = data_combined[data_combined['amphet'].isin([6])]\n",
    "plt.subplot(3, 3, 4)\n",
    "sns.histplot(high_amphetimine_users['ss'], bins=5, kde=True, \n",
    "             color='skyblue')\n",
    "plt.title(\"Distribution of Sensation-Seeking for High Amphetimine Users\")\n",
    "plt.xlabel(\"Sensation Seeking\")\n",
    "plt.ylabel(\"Frequency\")\n",
    "plt.grid(axis='y')\n",
    "\n",
    "#amyl nitrate\n",
    "high_amyl_users = data_combined[data_combined['amyl'].isin([6])]\n",
    "plt.subplot(3, 3, 5)\n",
    "sns.histplot(high_amyl_users['ss'], bins=5, kde=True, \n",
    "             color='skyblue')\n",
    "plt.title(\"Distribution of Sensation-Seeking for High Amyl Nitrate Users\")\n",
    "plt.xlabel(\"Sensation Seeking\")\n",
    "plt.ylabel(\"Frequency\")\n",
    "plt.grid(axis='y')\n",
    "\n",
    "plt.tight_layout()\n",
    "plt.show()"
   ]
  },
  {
   "cell_type": "markdown",
   "id": "31501636-63b7-4a03-a33e-ed1a68b07393",
   "metadata": {},
   "source": [
    "## Part 3: Preregistration Statement"
   ]
  },
  {
   "cell_type": "markdown",
   "id": "e3c60b1f-4bec-433a-a18f-29eebc90a9f5",
   "metadata": {},
   "source": [
    "#### Hypothesis 1: \n",
    "Users who have higher sensation-seeking scores are most likely to be high users of stimulants.\n",
    "\n",
    "Analysis: Run a logistic regression where our output variable is the binary variable representing the odds of being a heavy user of drugs classified as stimulants, and the input is a user’s sensation-seeking score. We aim to test whether there is a significant positive relationship between sensation-seeking and stimulant drug use, such that higher scores on sensation-seeking are associated with higher odds of being a heavy user of stimulant drugs. Specifically, we will test whether the coefficient 𝛽 sensation-seeking>0.\n",
    "\n",
    "\n",
    "#### Hypothesis 2: \n",
    "Users who have higher neuroticism and lower conscientiousness scores are most likely to be high users of extreme drugs.\n",
    "\n",
    "Analysis: We will run a multinvariate logistic regression model with the following predictor variables: neuroticism score and conscientiousness score. The outcome variable will be the binary indicator of heavy drug use of extreme drugs (coke, crack, heroin, ecstasy, ketamine). We will evaluate each predictor’s contribution to the odds of being a heavy user. We will test if βneuroticism > 0 (higher neuroticism is positively associated with higher odds of heavy drug use) and if βconscientiousness < 0 (lower conscientiousness is positively associated with higher odds of heavy drug use).\n"
   ]
  },
  {
   "cell_type": "markdown",
   "id": "6c255eea-3b4c-4fe6-bd82-ceb5ee401177",
   "metadata": {},
   "source": [
    "## Part 4&5: Data Analysis and Evaluation of Signficance"
   ]
  },
  {
   "cell_type": "markdown",
   "id": "983e2a21-6313-4c2f-bb60-3de5e1e20244",
   "metadata": {},
   "source": [
    "Read in cleaned csv file for data features:"
   ]
  },
  {
   "cell_type": "code",
   "execution_count": null,
   "id": "66d5d249-af73-43a4-a8f3-9551e910397a",
   "metadata": {},
   "outputs": [],
   "source": [
    "features= pd.read_csv(\"cleaned_features.csv\")\n",
    "features.head()"
   ]
  },
  {
   "cell_type": "markdown",
   "id": "9fab5092-e77a-464e-a665-ac0d3e54f0da",
   "metadata": {},
   "source": [
    "Read in cleaned csv file for data targets:"
   ]
  },
  {
   "cell_type": "code",
   "execution_count": null,
   "id": "6f9e5db8-e727-4dc2-87ce-0cddc35d639f",
   "metadata": {},
   "outputs": [],
   "source": [
    "targets= pd.read_csv(\"cleaned_targets.csv\")\n",
    "targets.head()"
   ]
  },
  {
   "cell_type": "markdown",
   "id": "219f8997-c750-481e-8561-0d16b158768e",
   "metadata": {},
   "source": [
    "##### Question 1: Are users who have higher sensation-seeking scores more likely to be users of stimulants?"
   ]
  },
  {
   "cell_type": "markdown",
   "id": "cc420685-a4fb-49fb-8fca-c9dfa9a555b4",
   "metadata": {},
   "source": [
    "Hypothesis: We hypothesize that there is a positive relationship between sensation-seeking score and odds of being a stimulant user."
   ]
  },
  {
   "cell_type": "markdown",
   "id": "ccfb6092-1e72-4b8c-9c7c-2396644ab52c",
   "metadata": {},
   "source": [
    "Null Hypothesis: There is no significant relationship between sensation-seeking score and odds of being a stimulant user"
   ]
  },
  {
   "cell_type": "markdown",
   "id": "aba702fd-0e5f-46d8-8914-e167d768ccc6",
   "metadata": {},
   "source": [
    "Alternative Hypothesis: There is a significant positive relationship between sensation-seeking score and odds of being a stimulant user"
   ]
  },
  {
   "cell_type": "markdown",
   "id": "67a790bd-d978-4a76-ad59-2f189fcac217",
   "metadata": {},
   "source": [
    "First, we decided to visualize the relationship between these two variables with a graph"
   ]
  },
  {
   "cell_type": "code",
   "execution_count": null,
   "id": "49b61c52-2f0e-48a8-b786-30a3f509b0d0",
   "metadata": {},
   "outputs": [],
   "source": [
    "sns.lineplot(x= features['sensation-seeking'], y=targets['stimulant'], color = 'red', alpha=0.5);\n",
    "plt.title('Sensation-seeking score versus stimulant use')\n",
    "plt.xlabel('sensation-seeking score')\n",
    "plt.ylabel('odds of being a stimulant user')\n",
    "correlation = features['sensation-seeking'].corr(targets['stimulant'])\n",
    "print(f'The correlation between sensation-seeking score and odds of being a stimulant user is {correlation:.3f}.')"
   ]
  },
  {
   "cell_type": "code",
   "execution_count": null,
   "id": "4e833af7-38dd-415c-a505-ff4c1492a693",
   "metadata": {},
   "outputs": [],
   "source": [
    "data = pd.concat([features['sensation-seeking'], targets['stimulant']], axis=1).dropna()\n",
    "X = data[['sensation-seeking']]\n",
    "y = data['stimulant']\n",
    "X = sm.add_constant(X)  \n",
    "\n",
    "logit_model = sm.Logit(y, X)\n",
    "result = logit_model.fit()\n",
    "\n",
    "print(result.summary())\n",
    "\n",
    "beta = result.params['sensation-seeking']\n",
    "p_value = result.pvalues['sensation-seeking']"
   ]
  },
  {
   "cell_type": "markdown",
   "id": "921ee881-d0d9-45bf-a2f9-c0c0e9e43c6f",
   "metadata": {},
   "source": [
    "##### Evaluation of Significance 1:"
   ]
  },
  {
   "cell_type": "markdown",
   "id": "f7a01c8d-45d5-4c65-accf-c37a92c7b38c",
   "metadata": {},
   "source": [
    "The results of the t-test shows that the p-value for sensation-seeking is about 0.000, which is smaller than the 0.05 threshold. The coefficient for sensation-seeking is 0.5219. This means that we can reject the null hypothesis. There is evidence to support that there is a signficiant positive relationship between sensation-seeking score and odds of being a stimulant user."
   ]
  },
  {
   "cell_type": "markdown",
   "id": "c501d85f-2519-494f-b564-57e174aa5b20",
   "metadata": {},
   "source": [
    "##### Question 2: What is the relationship between neuroticism and conscientiousness score and use of extreme drugs?"
   ]
  },
  {
   "cell_type": "markdown",
   "id": "343e0d95-c0ff-4e8b-b654-774635af9a10",
   "metadata": {},
   "source": [
    "We visualized the relationship between both neuroticism and conscientiousness score and use of extreme drugs in the graphs below:"
   ]
  },
  {
   "cell_type": "code",
   "execution_count": null,
   "id": "77af18d0-e5c1-4acf-b994-c6bf9f9dcb8d",
   "metadata": {},
   "outputs": [],
   "source": [
    "sns.lineplot(x= features['conscientiousness'], y=targets['extreme'], color = 'red', alpha=0.5);\n",
    "plt.title('Conscientiousness score versus stimulant use')\n",
    "plt.xlabel('Conscientiousness score')\n",
    "plt.ylabel('Odds of being an extreme drug user')\n",
    "correlation = features['conscientiousness'].corr(targets['extreme'])\n",
    "print(f'The correlation between conscientiousness score and odds of being an extreme drug user is {correlation:.3f}.')"
   ]
  },
  {
   "cell_type": "code",
   "execution_count": null,
   "id": "2035e751-e5cb-4767-80aa-179c168b0cdc",
   "metadata": {},
   "outputs": [],
   "source": [
    "sns.lineplot(x= features['neuroticism'], y=targets['extreme'], color = 'red', alpha=0.5);\n",
    "plt.title('Neuroticism score versus stimulant use')\n",
    "plt.xlabel('Neuroticism score')\n",
    "plt.ylabel('Odds of being an extreme drug user')\n",
    "correlation = features['neuroticism'].corr(targets['extreme'])\n",
    "print(f'The correlation between neuroticism score and odds of being an extreme drug user is {correlation:.3f}.')"
   ]
  },
  {
   "cell_type": "markdown",
   "id": "20a0f0b3-7227-49a5-86e0-2117bbdb787d",
   "metadata": {},
   "source": [
    "Hypothesis: We predict that users who have higher neuroticism and lower conscientiousness scores are most likely to be high users of extreme drugs."
   ]
  },
  {
   "cell_type": "markdown",
   "id": "3666c23f-804a-4c70-a387-fb004769b20c",
   "metadata": {},
   "source": [
    "Null Hypothesis: There is no significant relationship between neuroticism and conscientiousness score and odds of being a user of extreme drugs"
   ]
  },
  {
   "cell_type": "markdown",
   "id": "0b802c5e-e513-4151-b791-0b5fc05e07ba",
   "metadata": {},
   "source": [
    "Alternative Hypothesis: There is a significant positive relationship between high neuroticism score and low conscientiousness score and odds of being a user of extreme drugs"
   ]
  },
  {
   "cell_type": "code",
   "execution_count": null,
   "id": "add90782-eccb-408b-a155-57af9fbe6033",
   "metadata": {},
   "outputs": [],
   "source": [
    "data = pd.concat([\n",
    "    features[['neuroticism', 'conscientiousness']], \n",
    "    targets['extreme']\n",
    "], axis=1).dropna()\n",
    "\n",
    "# Prepare input (X) and output (y)\n",
    "X = data[['neuroticism', 'conscientiousness']] \n",
    "X = sm.add_constant(X)  \n",
    "y = data['extreme'] \n",
    "\n",
    "# Fit the logistic regression model\n",
    "logit_model = sm.Logit(y, X)\n",
    "result = logit_model.fit()\n",
    "\n",
    "# Print the summary of the regression\n",
    "print(result.summary())"
   ]
  },
  {
   "cell_type": "markdown",
   "id": "dc7e625c-cb35-43d2-90a2-252d1d2b9b49",
   "metadata": {},
   "source": [
    "##### Evaluation of Significance 2:"
   ]
  },
  {
   "cell_type": "markdown",
   "id": "9cc846e7-0e65-48e0-a1a1-a287c4b92550",
   "metadata": {},
   "source": [
    "The results of the t-test shows that the p-value for conscientiousness is about 0.000, which is smaller than the 0.05 threshold. The coefficient for conscientiousness is -0.2883. This means that we can reject the part of the null hypothesis regarding conscientiousness score. There is evidence to support that there is a signficiant negative relationship between conscientiousness score and odds of being a extreme drug user. The results of the t-test shows that the p-value for neuroticism is about 0.115, which is not smaller than the 0.05 threshold. The coefficient for neuroticism is very close to 0 at 0.0839. This means that we cannot reject the part of the null hypothesis that there is no significant relationship between neuroticism score and the odds of being a user of extreme drugs."
   ]
  },
  {
   "cell_type": "markdown",
   "id": "2505329d-2c50-4b12-ad8f-23f96c3fd1c4",
   "metadata": {},
   "source": [
    "## Part 6: Conclusions"
   ]
  },
  {
   "cell_type": "markdown",
   "id": "5b1304c3-54b7-4870-881a-23c1813cbf4d",
   "metadata": {},
   "source": [
    "Our analyses explored the relationship between personality traits and drug use, focusing on whether certain traits reliably predict an individual's likelihood of using specific substances. In the first analysis, we examined the relationship between sensation-seeking and stimulant drug use. The results indicated a significant positive correlation, suggesting that individuals with higher sensation-seeking scores are more likely to engage in stimulant drug use. This finding supports the hypothesis that sensation-seeking behavior drives individuals toward substances that provide heightened stimulation or excitement, such as stimulants.\n",
    "\n",
    "In the second analysis, we investigated the roles of neuroticism and conscientiousness in predicting use of extreme drugs, including cocaine, crack, heroin, ecstasy, and ketamine. The results revealed that low conscientiousness was significantly associated with increased odds of heavy drug use, aligning with the hypothesis that reduced impulse control and responsibility increase vulnerability to risky behaviors. However, while the coefficient for neuroticism was positive, its p-value exceeded the threshold for statistical significance. This indicates that the relationship between neuroticism and extreme drug use is not strong enough to be conclusive in this dataset.\n",
    "\n",
    "Returning to our research questions, these findings suggest that certain personality traits, particularly sensation-seeking and conscientiousness, can reliably predict specific types of drug use. Stimulant drug use is signficiantly linked to high sensation-seeking scores, and use of extreme drugs is significantly associated with low conscientiousness. However, the role of neuroticism remains inconclusive, requiring further research to clarify its impact on extreme drug use.\n",
    "\n",
    "These results contribute to our understanding of how personality traits influence substance use behaviors, offering valuable insights for prevention and intervention strategies. By identifying traits most strongly associated with specific types of drug use, specifically sensation-seeking and conscientiousness, out work highlights the potential of personality-based assessments in identifying individuals at higher risk, ultimately supporting efforts to mitigate the dangers of substance abuse."
   ]
  },
  {
   "cell_type": "markdown",
   "id": "9af47c97-de52-4e8c-bb63-c73a99af4acc",
   "metadata": {},
   "source": [
    "## Part 7: Limitations"
   ]
  },
  {
   "cell_type": "markdown",
   "id": "b49bcd9d-e253-4766-b1b8-17f4dc4a2812",
   "metadata": {},
   "source": [
    "There were a few limitations we discovered in the data. First, there was bias in the data. In this article about the data: https://arxiv.org/abs/1506.06297, the biases described were as follows: the sample was highly educated and all native english speaking. The largest bias of the data was that its respondants were 91.2% white. This could affect how representative the data is of the general population, especially any racial category besides white, as well as less educated and non-native speakers. Also, the data for the targets about the drug use was seperated into classes that described the last time the respondants had used the drug. This was difficult to quanitify and represent as numbers, and we may have not chosen the most accurate way to represent the drug use of the responders. "
   ]
  },
  {
   "cell_type": "markdown",
   "id": "5bdb2e65-288c-4ee4-93b1-fccb711b5a92",
   "metadata": {},
   "source": [
    "## Part 8: Acknowledgements and Bibliography\n",
    "#### Sources:\n",
    "- https://www.cpp.edu/health/health-topics/stimulants.shtml\n",
    "- https://pandas.pydata.org/pandas-docs/stable/reference/api/pandas.DataFrame.to_csv.html\n",
    "- https://delamere.com/blog/top-10-most-dangerous-drugs"
   ]
  }
 ],
 "metadata": {
  "kernelspec": {
   "display_name": "Python 3 (ipykernel)",
   "language": "python",
   "name": "python3"
  },
  "language_info": {
   "codemirror_mode": {
    "name": "ipython",
    "version": 3
   },
   "file_extension": ".py",
   "mimetype": "text/x-python",
   "name": "python",
   "nbconvert_exporter": "python",
   "pygments_lexer": "ipython3",
   "version": "3.12.2"
  }
 },
 "nbformat": 4,
 "nbformat_minor": 5
}
