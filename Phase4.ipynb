{
 "cells": [
  {
   "cell_type": "markdown",
   "id": "233c8b37-aed3-48bd-940f-f4f1095bf676",
   "metadata": {},
   "source": [
    "INFO 2950 PHASE 4"
   ]
  },
  {
   "cell_type": "markdown",
   "id": "817ba16f-31b0-495a-bccf-4f87774a09e6",
   "metadata": {},
   "source": [
    "Part 1: Introduction"
   ]
  },
  {
   "cell_type": "markdown",
   "id": "c175d9d2-9415-4037-8a00-51cc28304607",
   "metadata": {},
   "source": [
    "Part 2: Data Description"
   ]
  },
  {
   "cell_type": "code",
   "execution_count": null,
   "id": "c9caf332-dadf-4a33-854f-2d3ec7b0ac0d",
   "metadata": {},
   "outputs": [],
   "source": [
    "-What are the observations (rows) and the attributes (columns)?\n",
    "- Why was this dataset created?\n",
    "- Who funded the creation of the dataset?\n",
    "- What processes might have influenced what data was observed and recorded and\n",
    "what was not?\n",
    "- What preprocessing was done, and how did the data come to be in the form that\n",
    "you are using?\n",
    "- If people are involved, were they aware of the data collection and if so, what\n",
    "purpose did they expect the data to be used for?\n",
    "- Where can your raw source data be found, if applicable? Provide a link to the raw\n",
    "data (hosted on Github, in a Cornell Google Drive or Cornell Box)"
   ]
  },
  {
   "cell_type": "markdown",
   "id": "31501636-63b7-4a03-a33e-ed1a68b07393",
   "metadata": {},
   "source": [
    "Part 3: Preregistration Statement"
   ]
  },
  {
   "cell_type": "markdown",
   "id": "6c255eea-3b4c-4fe6-bd82-ceb5ee401177",
   "metadata": {},
   "source": [
    "Part 4: Data Analysis"
   ]
  },
  {
   "cell_type": "markdown",
   "id": "a7532042-f877-444d-9e0c-a307d27f4c84",
   "metadata": {},
   "source": [
    "Part 5: Evaluation of Significance"
   ]
  },
  {
   "cell_type": "markdown",
   "id": "2505329d-2c50-4b12-ad8f-23f96c3fd1c4",
   "metadata": {},
   "source": [
    "Part 6: Conclusions"
   ]
  },
  {
   "cell_type": "markdown",
   "id": "9af47c97-de52-4e8c-bb63-c73a99af4acc",
   "metadata": {},
   "source": [
    "Part 7: Limitations"
   ]
  },
  {
   "cell_type": "markdown",
   "id": "5bdb2e65-288c-4ee4-93b1-fccb711b5a92",
   "metadata": {},
   "source": [
    "Part 8: Acknowledgements and Bibliography"
   ]
  }
 ],
 "metadata": {
  "kernelspec": {
   "display_name": "Python 3 (ipykernel)",
   "language": "python",
   "name": "python3"
  },
  "language_info": {
   "codemirror_mode": {
    "name": "ipython",
    "version": 3
   },
   "file_extension": ".py",
   "mimetype": "text/x-python",
   "name": "python",
   "nbconvert_exporter": "python",
   "pygments_lexer": "ipython3",
   "version": "3.12.2"
  }
 },
 "nbformat": 4,
 "nbformat_minor": 5
}
