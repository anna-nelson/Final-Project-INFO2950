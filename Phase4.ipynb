{
 "cells": [
  {
   "cell_type": "markdown",
   "id": "233c8b37-aed3-48bd-940f-f4f1095bf676",
   "metadata": {},
   "source": [
    "# INFO 2950 PHASE 4"
   ]
  },
  {
   "cell_type": "markdown",
   "id": "817ba16f-31b0-495a-bccf-4f87774a09e6",
   "metadata": {},
   "source": [
    "## Part 1: Introduction"
   ]
  },
  {
   "cell_type": "markdown",
   "id": "49114016-fd55-4b9f-a81f-d2b8af65c541",
   "metadata": {},
   "source": [
    "#### Background Information\n",
    "Drugs heavily impact the personality traits and characteristics of an individual, especially based on the frequency of their useage and of what drug. In this project, we aim to explore whether we can predict a person's drug use based on their personality traits. To do so, we would explore potentional correlations between specific personality traits and drug use,looking at: neuroticism, extraversion, openness to experience, agreeableness, conscientiousness, impulsivity, and sensation seeking. We will train a multivariable regression to see if we can reliably predict a person's drug use based on a person's personality traits. It is important to recognize hightened or unusual personality traits, especially in individuals who could be exposed to life-threatening drugs or unsafe situations of usage. We hope this evaluation will be a resource for readers to better understand effects of drug usage and what traits are heightened after using a certain drug. \n",
    "\n",
    "#### Research Questions\n",
    "- Can we reliably predict a person's drug use based off a person's personality traits? \n",
    "- What types of drugs are more likely to be used by certain personalities?"
   ]
  },
  {
   "cell_type": "markdown",
   "id": "c175d9d2-9415-4037-8a00-51cc28304607",
   "metadata": {},
   "source": [
    "## Part 2: Data Description"
   ]
  },
  {
   "cell_type": "markdown",
   "id": "0615d3a0-061b-4426-83dd-553ce5264138",
   "metadata": {},
   "source": [
    "- #### What are the observations (rows) and the attributes (columns)?\n",
    "This dataset contains records for 1885 respondents with the following 12 columns: personality measurements(neuroticism, extraversion, openness to experience, agreeableness, conscientiousness, impulsivity, sensation seeking), level of education, age, gender, country of residence, and ethnicity. It also contains responses for the responders use of 18 legal and illegal drugs(18 more columns): alcohol, amphetamines, amyl nitrite, benzodiazepine, cannabis, chocolate, cocaine, caffeine, crack, ecstasy, heroin, ketamine, legal highs, LSD, methadone, mushrooms, nicotine and volatile substance abuse and Semerone (fictitious drug to identify overresponders). Each row represents the response of one person - the responders have selected whether they never used the drug, used it over a decade ago, or in the last decade, year, month, week, or day.\n",
    "\n",
    "- #### Why was this dataset created?\n",
    "This dataset was accessed from UC Irvine Machine Learning Repository, where it was created by Elaine Fehrman, Vincent Egan, and Evgeny Mirkes. This data set was created to evaluate an individual's risk of drug consumption and misuse based on categorical data. \n",
    "\n",
    "- #### Who funded the creation of the dataset?\n",
    "This data collection was independantly funded and created by the authors of the dataset listed above.\n",
    "\n",
    "- #### What processes might have influenced what data was observed and recorded and what was not?\n",
    "An anonymous online survey methodology from Survey Gizmo was used to collect this data, which could have influenced people's responses because they can choose which questions to answer honestly or not. The people had to take a personality test to get the personality data. The data was analyzed and organized by the three authors listed at the beginning of this paragraph, and the uci machine learning repositiory obtained it for us to get the current form of the data. \n",
    "\n",
    "- #### What preprocessing was done, and how did the data come to be in the form that you are using?\n",
    "There was preprocessing done, specifically the answers for how often the respondants use drugs was turned into classes representing the category of their response. The data was collected and formatted by the authors listed above who turned it into the UC Irvine Machine Learning Repository.\n",
    "\n",
    "- #### If people are involved, were they aware of the data collection and if so, what purpose did they expect the data to be used for?\n",
    "Yes, the people responding were aware of the data collection, as they filled out the form voluntarily, and they knew the data was going to be analyzed and collected for this dataset.\n",
    "\n",
    "- #### Where can your raw source data be found, if applicable? Provide a link to the raw data (hosted on Github, in a Cornell Google Drive or Cornell Box)\n",
    "This is a link to the dataset: https://archive.ics.uci.edu/dataset/373/drug+consumption+quantified and here is the github link to the raw data: https://github.com/uci-ml-repo/ucimlrepo?tab=readme-ov-file"
   ]
  },
  {
   "cell_type": "markdown",
   "id": "31501636-63b7-4a03-a33e-ed1a68b07393",
   "metadata": {},
   "source": [
    "## Part 3: Preregistration Statement"
   ]
  },
  {
   "cell_type": "markdown",
   "id": "e3c60b1f-4bec-433a-a18f-29eebc90a9f5",
   "metadata": {},
   "source": [
    "#### Hypothesis 1: \n",
    "Users who have higher sensation-seeking scores are most likely to be high users of stimulants.\n",
    "\n",
    "Analysis: Run a logistic regression where our output variable is the binary variable representing the odds of being a heavy user of drugs classified as stimulants, and the input is a user’s sensation-seeking score. We aim to test whether there is a significant positive relationship between sensation-seeking and stimulant drug use, such that higher scores on sensation-seeking are associated with higher odds of being a heavy user of stimulant drugs. Specifically, we will test whether the coefficient 𝛽 sensation-seeking>0.\n",
    "\n",
    "\n",
    "#### Hypothesis 2: \n",
    "Users who have higher neuroticism and lower conscientiousness scores are most likely to be high users of extreme drugs.\n",
    "\n",
    "Analysis: We will run a multinvariate logistic regression model with the following predictor variables: neuroticism score and conscientiousness score. The outcome variable will be the binary indicator of heavy drug use of extreme drugs (coke, crack, heroin, ecstasy, ketamine). We will evaluate each predictor’s contribution to the odds of being a heavy user. We will test if βneuroticism > 0 (higher neuroticism is positively associated with higher odds of heavy drug use) and if βconscientiousness < 0 (lower conscientiousness is positively associated with higher odds of heavy drug use).\n"
   ]
  },
  {
   "cell_type": "markdown",
   "id": "6c255eea-3b4c-4fe6-bd82-ceb5ee401177",
   "metadata": {},
   "source": [
    "## Part 4: Data Analysis"
   ]
  },
  {
   "cell_type": "code",
   "execution_count": 1,
   "id": "81423f59-bba7-4469-8c4a-8457390c7c29",
   "metadata": {},
   "outputs": [],
   "source": [
    "# imports and settings\n",
    "import matplotlib.pyplot as plt\n",
    "import numpy as np\n",
    "import pandas as pd\n",
    "import seaborn as sns\n",
    "import statsmodels.api as sm\n",
    "from ucimlrepo import fetch_ucirepo \n",
    "from sklearn.model_selection import train_test_split\n",
    "from sklearn.linear_model import LinearRegression\n",
    "from sklearn.metrics import mean_squared_error, r2_score"
   ]
  },
  {
   "cell_type": "markdown",
   "id": "983e2a21-6313-4c2f-bb60-3de5e1e20244",
   "metadata": {},
   "source": [
    "Read in cleaned csv file for data features:"
   ]
  },
  {
   "cell_type": "code",
   "execution_count": 2,
   "id": "66d5d249-af73-43a4-a8f3-9551e910397a",
   "metadata": {},
   "outputs": [
    {
     "data": {
      "text/html": [
       "<div>\n",
       "<style scoped>\n",
       "    .dataframe tbody tr th:only-of-type {\n",
       "        vertical-align: middle;\n",
       "    }\n",
       "\n",
       "    .dataframe tbody tr th {\n",
       "        vertical-align: top;\n",
       "    }\n",
       "\n",
       "    .dataframe thead th {\n",
       "        text-align: right;\n",
       "    }\n",
       "</style>\n",
       "<table border=\"1\" class=\"dataframe\">\n",
       "  <thead>\n",
       "    <tr style=\"text-align: right;\">\n",
       "      <th></th>\n",
       "      <th>age</th>\n",
       "      <th>gender</th>\n",
       "      <th>education</th>\n",
       "      <th>country</th>\n",
       "      <th>ethnicity</th>\n",
       "      <th>neuroticism</th>\n",
       "      <th>extraversion</th>\n",
       "      <th>openness</th>\n",
       "      <th>agreeableness</th>\n",
       "      <th>conscientiousness</th>\n",
       "      <th>impulsive</th>\n",
       "      <th>sensation-seeking</th>\n",
       "    </tr>\n",
       "  </thead>\n",
       "  <tbody>\n",
       "    <tr>\n",
       "      <th>0</th>\n",
       "      <td>0.49788</td>\n",
       "      <td>0.48246</td>\n",
       "      <td>-0.05921</td>\n",
       "      <td>0.96082</td>\n",
       "      <td>0.12600</td>\n",
       "      <td>0.31287</td>\n",
       "      <td>-0.57545</td>\n",
       "      <td>-0.58331</td>\n",
       "      <td>-0.91699</td>\n",
       "      <td>-0.00665</td>\n",
       "      <td>-0.21712</td>\n",
       "      <td>-1.18084</td>\n",
       "    </tr>\n",
       "    <tr>\n",
       "      <th>1</th>\n",
       "      <td>-0.07854</td>\n",
       "      <td>-0.48246</td>\n",
       "      <td>1.98437</td>\n",
       "      <td>0.96082</td>\n",
       "      <td>-0.31685</td>\n",
       "      <td>-0.67825</td>\n",
       "      <td>1.93886</td>\n",
       "      <td>1.43533</td>\n",
       "      <td>0.76096</td>\n",
       "      <td>-0.14277</td>\n",
       "      <td>-0.71126</td>\n",
       "      <td>-0.21575</td>\n",
       "    </tr>\n",
       "    <tr>\n",
       "      <th>2</th>\n",
       "      <td>0.49788</td>\n",
       "      <td>-0.48246</td>\n",
       "      <td>-0.05921</td>\n",
       "      <td>0.96082</td>\n",
       "      <td>-0.31685</td>\n",
       "      <td>-0.46725</td>\n",
       "      <td>0.80523</td>\n",
       "      <td>-0.84732</td>\n",
       "      <td>-1.62090</td>\n",
       "      <td>-1.01450</td>\n",
       "      <td>-1.37983</td>\n",
       "      <td>0.40148</td>\n",
       "    </tr>\n",
       "    <tr>\n",
       "      <th>3</th>\n",
       "      <td>-0.95197</td>\n",
       "      <td>0.48246</td>\n",
       "      <td>1.16365</td>\n",
       "      <td>0.96082</td>\n",
       "      <td>-0.31685</td>\n",
       "      <td>-0.14882</td>\n",
       "      <td>-0.80615</td>\n",
       "      <td>-0.01928</td>\n",
       "      <td>0.59042</td>\n",
       "      <td>0.58489</td>\n",
       "      <td>-1.37983</td>\n",
       "      <td>-1.18084</td>\n",
       "    </tr>\n",
       "    <tr>\n",
       "      <th>4</th>\n",
       "      <td>0.49788</td>\n",
       "      <td>0.48246</td>\n",
       "      <td>1.98437</td>\n",
       "      <td>0.96082</td>\n",
       "      <td>-0.31685</td>\n",
       "      <td>0.73545</td>\n",
       "      <td>-1.63340</td>\n",
       "      <td>-0.45174</td>\n",
       "      <td>-0.30172</td>\n",
       "      <td>1.30612</td>\n",
       "      <td>-0.21712</td>\n",
       "      <td>-0.21575</td>\n",
       "    </tr>\n",
       "  </tbody>\n",
       "</table>\n",
       "</div>"
      ],
      "text/plain": [
       "       age   gender  education  country  ethnicity  neuroticism  extraversion  \\\n",
       "0  0.49788  0.48246   -0.05921  0.96082    0.12600      0.31287      -0.57545   \n",
       "1 -0.07854 -0.48246    1.98437  0.96082   -0.31685     -0.67825       1.93886   \n",
       "2  0.49788 -0.48246   -0.05921  0.96082   -0.31685     -0.46725       0.80523   \n",
       "3 -0.95197  0.48246    1.16365  0.96082   -0.31685     -0.14882      -0.80615   \n",
       "4  0.49788  0.48246    1.98437  0.96082   -0.31685      0.73545      -1.63340   \n",
       "\n",
       "   openness  agreeableness  conscientiousness  impulsive  sensation-seeking  \n",
       "0  -0.58331       -0.91699           -0.00665   -0.21712           -1.18084  \n",
       "1   1.43533        0.76096           -0.14277   -0.71126           -0.21575  \n",
       "2  -0.84732       -1.62090           -1.01450   -1.37983            0.40148  \n",
       "3  -0.01928        0.59042            0.58489   -1.37983           -1.18084  \n",
       "4  -0.45174       -0.30172            1.30612   -0.21712           -0.21575  "
      ]
     },
     "execution_count": 2,
     "metadata": {},
     "output_type": "execute_result"
    }
   ],
   "source": [
    "features= pd.read_csv(\"cleaned_features.csv\")\n",
    "features.head()"
   ]
  },
  {
   "cell_type": "markdown",
   "id": "9fab5092-e77a-464e-a665-ac0d3e54f0da",
   "metadata": {},
   "source": [
    "Read in cleaned csv file for data targets:"
   ]
  },
  {
   "cell_type": "code",
   "execution_count": 3,
   "id": "6f9e5db8-e727-4dc2-87ce-0cddc35d639f",
   "metadata": {},
   "outputs": [
    {
     "data": {
      "text/html": [
       "<div>\n",
       "<style scoped>\n",
       "    .dataframe tbody tr th:only-of-type {\n",
       "        vertical-align: middle;\n",
       "    }\n",
       "\n",
       "    .dataframe tbody tr th {\n",
       "        vertical-align: top;\n",
       "    }\n",
       "\n",
       "    .dataframe thead th {\n",
       "        text-align: right;\n",
       "    }\n",
       "</style>\n",
       "<table border=\"1\" class=\"dataframe\">\n",
       "  <thead>\n",
       "    <tr style=\"text-align: right;\">\n",
       "      <th></th>\n",
       "      <th>alcohol</th>\n",
       "      <th>amphet</th>\n",
       "      <th>amyl</th>\n",
       "      <th>benzos</th>\n",
       "      <th>caff</th>\n",
       "      <th>cannabis</th>\n",
       "      <th>choc</th>\n",
       "      <th>coke</th>\n",
       "      <th>crack</th>\n",
       "      <th>ecstasy</th>\n",
       "      <th>...</th>\n",
       "      <th>ketamine</th>\n",
       "      <th>legalh</th>\n",
       "      <th>lsd</th>\n",
       "      <th>meth</th>\n",
       "      <th>mushrooms</th>\n",
       "      <th>nicotine</th>\n",
       "      <th>semer</th>\n",
       "      <th>vsa</th>\n",
       "      <th>stimulant</th>\n",
       "      <th>extreme</th>\n",
       "    </tr>\n",
       "  </thead>\n",
       "  <tbody>\n",
       "    <tr>\n",
       "      <th>0</th>\n",
       "      <td>1</td>\n",
       "      <td>0</td>\n",
       "      <td>0</td>\n",
       "      <td>0</td>\n",
       "      <td>1</td>\n",
       "      <td>0</td>\n",
       "      <td>1</td>\n",
       "      <td>0</td>\n",
       "      <td>0</td>\n",
       "      <td>0</td>\n",
       "      <td>...</td>\n",
       "      <td>0</td>\n",
       "      <td>0</td>\n",
       "      <td>0</td>\n",
       "      <td>0</td>\n",
       "      <td>0</td>\n",
       "      <td>0</td>\n",
       "      <td>0</td>\n",
       "      <td>0</td>\n",
       "      <td>0</td>\n",
       "      <td>0</td>\n",
       "    </tr>\n",
       "    <tr>\n",
       "      <th>1</th>\n",
       "      <td>1</td>\n",
       "      <td>0</td>\n",
       "      <td>0</td>\n",
       "      <td>0</td>\n",
       "      <td>1</td>\n",
       "      <td>1</td>\n",
       "      <td>1</td>\n",
       "      <td>1</td>\n",
       "      <td>0</td>\n",
       "      <td>1</td>\n",
       "      <td>...</td>\n",
       "      <td>0</td>\n",
       "      <td>0</td>\n",
       "      <td>0</td>\n",
       "      <td>1</td>\n",
       "      <td>0</td>\n",
       "      <td>1</td>\n",
       "      <td>0</td>\n",
       "      <td>0</td>\n",
       "      <td>1</td>\n",
       "      <td>1</td>\n",
       "    </tr>\n",
       "    <tr>\n",
       "      <th>2</th>\n",
       "      <td>1</td>\n",
       "      <td>0</td>\n",
       "      <td>0</td>\n",
       "      <td>0</td>\n",
       "      <td>1</td>\n",
       "      <td>1</td>\n",
       "      <td>1</td>\n",
       "      <td>0</td>\n",
       "      <td>0</td>\n",
       "      <td>0</td>\n",
       "      <td>...</td>\n",
       "      <td>0</td>\n",
       "      <td>0</td>\n",
       "      <td>0</td>\n",
       "      <td>0</td>\n",
       "      <td>0</td>\n",
       "      <td>0</td>\n",
       "      <td>0</td>\n",
       "      <td>0</td>\n",
       "      <td>0</td>\n",
       "      <td>0</td>\n",
       "    </tr>\n",
       "    <tr>\n",
       "      <th>3</th>\n",
       "      <td>1</td>\n",
       "      <td>0</td>\n",
       "      <td>0</td>\n",
       "      <td>1</td>\n",
       "      <td>1</td>\n",
       "      <td>0</td>\n",
       "      <td>1</td>\n",
       "      <td>0</td>\n",
       "      <td>0</td>\n",
       "      <td>0</td>\n",
       "      <td>...</td>\n",
       "      <td>0</td>\n",
       "      <td>0</td>\n",
       "      <td>0</td>\n",
       "      <td>0</td>\n",
       "      <td>0</td>\n",
       "      <td>0</td>\n",
       "      <td>0</td>\n",
       "      <td>0</td>\n",
       "      <td>0</td>\n",
       "      <td>0</td>\n",
       "    </tr>\n",
       "    <tr>\n",
       "      <th>4</th>\n",
       "      <td>1</td>\n",
       "      <td>0</td>\n",
       "      <td>0</td>\n",
       "      <td>0</td>\n",
       "      <td>1</td>\n",
       "      <td>1</td>\n",
       "      <td>1</td>\n",
       "      <td>0</td>\n",
       "      <td>0</td>\n",
       "      <td>0</td>\n",
       "      <td>...</td>\n",
       "      <td>0</td>\n",
       "      <td>0</td>\n",
       "      <td>0</td>\n",
       "      <td>0</td>\n",
       "      <td>0</td>\n",
       "      <td>0</td>\n",
       "      <td>0</td>\n",
       "      <td>0</td>\n",
       "      <td>0</td>\n",
       "      <td>0</td>\n",
       "    </tr>\n",
       "  </tbody>\n",
       "</table>\n",
       "<p>5 rows × 21 columns</p>\n",
       "</div>"
      ],
      "text/plain": [
       "   alcohol  amphet  amyl  benzos  caff  cannabis  choc  coke  crack  ecstasy  \\\n",
       "0        1       0     0       0     1         0     1     0      0        0   \n",
       "1        1       0     0       0     1         1     1     1      0        1   \n",
       "2        1       0     0       0     1         1     1     0      0        0   \n",
       "3        1       0     0       1     1         0     1     0      0        0   \n",
       "4        1       0     0       0     1         1     1     0      0        0   \n",
       "\n",
       "   ...  ketamine  legalh  lsd  meth  mushrooms  nicotine  semer  vsa  \\\n",
       "0  ...         0       0    0     0          0         0      0    0   \n",
       "1  ...         0       0    0     1          0         1      0    0   \n",
       "2  ...         0       0    0     0          0         0      0    0   \n",
       "3  ...         0       0    0     0          0         0      0    0   \n",
       "4  ...         0       0    0     0          0         0      0    0   \n",
       "\n",
       "   stimulant  extreme  \n",
       "0          0        0  \n",
       "1          1        1  \n",
       "2          0        0  \n",
       "3          0        0  \n",
       "4          0        0  \n",
       "\n",
       "[5 rows x 21 columns]"
      ]
     },
     "execution_count": 3,
     "metadata": {},
     "output_type": "execute_result"
    }
   ],
   "source": [
    "targets= pd.read_csv(\"cleaned_targets.csv\")\n",
    "targets.head()"
   ]
  },
  {
   "cell_type": "markdown",
   "id": "219f8997-c750-481e-8561-0d16b158768e",
   "metadata": {},
   "source": [
    "##### Question 1: Are users who have higher sensation-seeking scores more likely to be users of stimulants?"
   ]
  },
  {
   "cell_type": "markdown",
   "id": "cc420685-a4fb-49fb-8fca-c9dfa9a555b4",
   "metadata": {},
   "source": [
    "Hypothesis: We hypothesize that there is a positive relationship between sensation-seeking score and odds of being a stimulant user."
   ]
  },
  {
   "cell_type": "markdown",
   "id": "ccfb6092-1e72-4b8c-9c7c-2396644ab52c",
   "metadata": {},
   "source": [
    "Null Hypothesis: There is no significant relationship between sensation-seeking score and odds of being a stimulant user"
   ]
  },
  {
   "cell_type": "markdown",
   "id": "aba702fd-0e5f-46d8-8914-e167d768ccc6",
   "metadata": {},
   "source": [
    "Alternative Hypothesis: There is a significant positive relationship between sensation-seeking score and odds of being a stimulant user"
   ]
  },
  {
   "cell_type": "markdown",
   "id": "67a790bd-d978-4a76-ad59-2f189fcac217",
   "metadata": {},
   "source": [
    "First, we decided to visualize the relationship between these two variables with a graph"
   ]
  },
  {
   "cell_type": "code",
   "execution_count": 4,
   "id": "49b61c52-2f0e-48a8-b786-30a3f509b0d0",
   "metadata": {},
   "outputs": [
    {
     "name": "stdout",
     "output_type": "stream",
     "text": [
      "The correlation between sensation-seeking score and odds of being a stimulant user is 0.231.\n"
     ]
    },
    {
     "data": {
      "image/png": "[encoded data removed]",
      "text/plain": [
       "<Figure size 640x480 with 1 Axes>"
      ]
     },
     "metadata": {},
     "output_type": "display_data"
    }
   ],
   "source": [
    "sns.lineplot(x= features['sensation-seeking'], y=targets['stimulant'], color = 'red', alpha=0.5);\n",
    "plt.title('Sensation-seeking score versus stimulant use')\n",
    "plt.xlabel('sensation-seeking score')\n",
    "plt.ylabel('odds of being a stimulant user')\n",
    "correlation = features['sensation-seeking'].corr(targets['stimulant'])\n",
    "print(f'The correlation between sensation-seeking score and odds of being a stimulant user is {correlation:.3f}.')"
   ]
  },
  {
   "cell_type": "code",
   "execution_count": 5,
   "id": "4e833af7-38dd-415c-a505-ff4c1492a693",
   "metadata": {},
   "outputs": [
    {
     "name": "stdout",
     "output_type": "stream",
     "text": [
      "Optimization terminated successfully.\n",
      "         Current function value: 0.627807\n",
      "         Iterations 5\n",
      "                           Logit Regression Results                           \n",
      "==============================================================================\n",
      "Dep. Variable:              stimulant   No. Observations:                 1877\n",
      "Model:                          Logit   Df Residuals:                     1875\n",
      "Method:                           MLE   Df Model:                            1\n",
      "Date:                Wed, 20 Nov 2024   Pseudo R-squ.:                 0.04154\n",
      "Time:                        17:04:28   Log-Likelihood:                -1178.4\n",
      "converged:                       True   LL-Null:                       -1229.5\n",
      "Covariance Type:            nonrobust   LLR p-value:                 5.130e-24\n",
      "=====================================================================================\n",
      "                        coef    std err          z      P>|z|      [0.025      0.975]\n",
      "-------------------------------------------------------------------------------------\n",
      "const                 0.5997      0.050     12.037      0.000       0.502       0.697\n",
      "sensation-seeking     0.5219      0.053      9.756      0.000       0.417       0.627\n",
      "=====================================================================================\n"
     ]
    }
   ],
   "source": [
    "data = pd.concat([features['sensation-seeking'], targets['stimulant']], axis=1).dropna()\n",
    "X = data[['sensation-seeking']]\n",
    "y = data['stimulant']\n",
    "X = sm.add_constant(X)  \n",
    "\n",
    "logit_model = sm.Logit(y, X)\n",
    "result = logit_model.fit()\n",
    "\n",
    "print(result.summary())\n",
    "\n",
    "beta = result.params['sensation-seeking']\n",
    "p_value = result.pvalues['sensation-seeking']"
   ]
  },
  {
   "cell_type": "markdown",
   "id": "f7a01c8d-45d5-4c65-accf-c37a92c7b38c",
   "metadata": {},
   "source": [
    "The results of the t-test shows that the p-value for sensation-seeking is about 0.000, which is smaller than the 0.05 threshold. The coefficient for sensation-seeking is 0.5219. This means that we can reject the null hypothesis. There is evidence to support that there is a signficiant positive relationship between sensation-seeking score and odds of being a stimulant user."
   ]
  },
  {
   "cell_type": "markdown",
   "id": "c501d85f-2519-494f-b564-57e174aa5b20",
   "metadata": {},
   "source": [
    "##### Question 2: What is the relationship between neuroticism and conscientiousness score and use of extreme drugs?"
   ]
  },
  {
   "cell_type": "markdown",
   "id": "20a0f0b3-7227-49a5-86e0-2117bbdb787d",
   "metadata": {},
   "source": [
    "Hypothesis: We predict that users who have higher neuroticism and lower conscientiousness scores are most likely to be high users of extreme drugs."
   ]
  },
  {
   "cell_type": "markdown",
   "id": "3666c23f-804a-4c70-a387-fb004769b20c",
   "metadata": {},
   "source": [
    "Null Hypothesis: There is no significant relationship between neuroticism and conscientiousness score and odds of being a user of extreme drugs"
   ]
  },
  {
   "cell_type": "markdown",
   "id": "0b802c5e-e513-4151-b791-0b5fc05e07ba",
   "metadata": {},
   "source": [
    "Alternative Hypothesis: There is a significant positive relationship between high neuroticism score and low conscientiousness score and odds of being a user of extreme drugs"
   ]
  },
  {
   "cell_type": "code",
   "execution_count": 22,
   "id": "add90782-eccb-408b-a155-57af9fbe6033",
   "metadata": {},
   "outputs": [
    {
     "name": "stdout",
     "output_type": "stream",
     "text": [
      "Optimization terminated successfully.\n",
      "         Current function value: 0.639310\n",
      "         Iterations 5\n",
      "                           Logit Regression Results                           \n",
      "==============================================================================\n",
      "Dep. Variable:                extreme   No. Observations:                 1877\n",
      "Model:                          Logit   Df Residuals:                     1874\n",
      "Method:                           MLE   Df Model:                            2\n",
      "Date:                Wed, 20 Nov 2024   Pseudo R-squ.:                 0.01846\n",
      "Time:                        17:09:19   Log-Likelihood:                -1200.0\n",
      "converged:                       True   LL-Null:                       -1222.5\n",
      "Covariance Type:            nonrobust   LLR p-value:                 1.590e-10\n",
      "=====================================================================================\n",
      "                        coef    std err          z      P>|z|      [0.025      0.975]\n",
      "-------------------------------------------------------------------------------------\n",
      "const                -0.6054      0.049    -12.363      0.000      -0.701      -0.509\n",
      "neuroticism           0.0839      0.053      1.577      0.115      -0.020       0.188\n",
      "conscientiousness    -0.2883      0.054     -5.308      0.000      -0.395      -0.182\n",
      "=====================================================================================\n"
     ]
    }
   ],
   "source": [
    "data = pd.concat([\n",
    "    features[['neuroticism', 'conscientiousness']], \n",
    "    targets['extreme']\n",
    "], axis=1).dropna()\n",
    "\n",
    "# Prepare input (X) and output (y)\n",
    "X = data[['neuroticism', 'conscientiousness']] \n",
    "X = sm.add_constant(X)  \n",
    "y = data['extreme'] \n",
    "\n",
    "# Fit the logistic regression model\n",
    "logit_model = sm.Logit(y, X)\n",
    "result = logit_model.fit()\n",
    "\n",
    "# Print the summary of the regression\n",
    "print(result.summary())"
   ]
  },
  {
   "cell_type": "markdown",
   "id": "9cc846e7-0e65-48e0-a1a1-a287c4b92550",
   "metadata": {},
   "source": [
    "The results of the t-test shows that the p-value for conscientiousness is about 0.000, which is smaller than the 0.05 threshold. The coefficient for conscientiousness is -0.2883. This means that we can reject the part of the null hypothesis regarding conscientiousness score. There is evidence to support that there is a signficiant negative relationship between conscientiousness score and odds of being a extreme drug user. The results of the t-test shows that the p-value for neuroticism is about 0.115, which is not smaller than the 0.05 threshold. The coefficient for conscientiousness is very close to 0 at 0.0839. This means that we cannot reject the part of the null hypothesis that there is no significant relationship between conscientiousness score and the odds of being a user of extreme drugs."
   ]
  },
  {
   "cell_type": "markdown",
   "id": "a7532042-f877-444d-9e0c-a307d27f4c84",
   "metadata": {},
   "source": [
    "## Part 5: Evaluation of Significance"
   ]
  },
  {
   "cell_type": "markdown",
   "id": "2505329d-2c50-4b12-ad8f-23f96c3fd1c4",
   "metadata": {},
   "source": [
    "## Part 6: Conclusions"
   ]
  },
  {
   "cell_type": "markdown",
   "id": "9af47c97-de52-4e8c-bb63-c73a99af4acc",
   "metadata": {},
   "source": [
    "## Part 7: Limitations"
   ]
  },
  {
   "cell_type": "markdown",
   "id": "b49bcd9d-e253-4766-b1b8-17f4dc4a2812",
   "metadata": {},
   "source": [
    "There were a few limitations we discovered in the data. First, there was bias in the data. In this article about the data: https://arxiv.org/abs/1506.06297, the biases described were as follows: the sample was highly educated and all native english speaking. The largest bias of the data was that its respondants were 91.2% white. This could affect how representative the data is of the general population, especially any racial category besides white, as well as less educated and non-native speakers. Also, the data for the targets about the drug use was seperated into classes that described the last time the respondants had used the drug. This was difficult to quanitify and represent as numbers, and we may have not chosen the most accurate way to represent the drug use of the responders. "
   ]
  },
  {
   "cell_type": "markdown",
   "id": "5bdb2e65-288c-4ee4-93b1-fccb711b5a92",
   "metadata": {},
   "source": [
    "## Part 8: Acknowledgements and Bibliography\n",
    "#### Sources:\n",
    "- https://www.cpp.edu/health/health-topics/stimulants.shtml\n",
    "- https://pandas.pydata.org/pandas-docs/stable/reference/api/pandas.DataFrame.to_csv.html"
   ]
  }
 ],
 "metadata": {
  "kernelspec": {
   "display_name": "Python 3 (ipykernel)",
   "language": "python",
   "name": "python3"
  },
  "language_info": {
   "codemirror_mode": {
    "name": "ipython",
    "version": 3
   },
   "file_extension": ".py",
   "mimetype": "text/x-python",
   "name": "python",
   "nbconvert_exporter": "python",
   "pygments_lexer": "ipython3",
   "version": "3.12.2"
  }
 },
 "nbformat": 4,
 "nbformat_minor": 5
}
